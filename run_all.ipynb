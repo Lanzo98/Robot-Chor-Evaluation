{
 "cells": [
  {
   "cell_type": "code",
   "execution_count": null,
   "id": "a6b811e9",
   "metadata": {},
   "outputs": [],
   "source": [
    "import os\n",
    "import shap\n",
    "\n",
    "# print the JS visualization code to the notebook\n",
    "shap.initjs()"
   ]
  },
  {
   "cell_type": "code",
   "execution_count": null,
   "id": "504a7c0c",
   "metadata": {},
   "outputs": [],
   "source": [
    "targetName = list(range(0,7))\n",
    "modelloML = ['lr','dt','rf','mlp']\n",
    "fileCSV = ['datasetArtisticBackgroundFINAL.csv', 'datasetScientificBackgroundFINAL.csv']"
   ]
  },
  {
   "cell_type": "code",
   "execution_count": null,
   "id": "943750ac",
   "metadata": {},
   "outputs": [],
   "source": [
    "for t in targetName:\n",
    "    for m in modelloML:\n",
    "        for file in fileCSV:\n",
    "            os.system('python mainScript.py'+ ' ' +  file + ' ' + str(t) + ' '  + m)"
   ]
  }
 ],
 "metadata": {
  "kernelspec": {
   "display_name": "Python 3 (ipykernel)",
   "language": "python",
   "name": "python3"
  },
  "language_info": {
   "codemirror_mode": {
    "name": "ipython",
    "version": 3
   },
   "file_extension": ".py",
   "mimetype": "text/x-python",
   "name": "python",
   "nbconvert_exporter": "python",
   "pygments_lexer": "ipython3",
   "version": "3.7.9"
  }
 },
 "nbformat": 4,
 "nbformat_minor": 5
}
